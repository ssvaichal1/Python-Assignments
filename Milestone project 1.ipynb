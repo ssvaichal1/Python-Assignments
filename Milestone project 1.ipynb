{
 "cells": [
  {
   "cell_type": "code",
   "execution_count": null,
   "metadata": {},
   "outputs": [],
   "source": [
    "player1 = input('please select X or O \\n')"
   ]
  },
  {
   "cell_type": "code",
   "execution_count": null,
   "metadata": {},
   "outputs": [],
   "source": [
    "player1\n"
   ]
  },
  {
   "cell_type": "code",
   "execution_count": null,
   "metadata": {},
   "outputs": [],
   "source": [
    "def inp_func():\n",
    "    player1 = ''\n",
    "    player2=''\n",
    "    while player1 !='X' and player1 !='O':\n",
    "        player1 = input('Player 1, what you want to be an X or a O ? \\n').upper()\n",
    "    if player1 == 'X':\n",
    "        player2 = 'O'\n",
    "    else:\n",
    "        player2='X'\n",
    "    print('Player 1 is {} and Player 2 is {}'.format(player1, player2))\n",
    "    return (player1, player2)"
   ]
  },
  {
   "cell_type": "code",
   "execution_count": null,
   "metadata": {},
   "outputs": [],
   "source": [
    "inp_func()"
   ]
  },
  {
   "cell_type": "code",
   "execution_count": null,
   "metadata": {},
   "outputs": [],
   "source": [
    "Player2"
   ]
  },
  {
   "cell_type": "code",
   "execution_count": 2,
   "metadata": {},
   "outputs": [],
   "source": [
    "def work_board(board):\n",
    "    print(str(board[1]) + '|' + str(board[2]) + '|' + str(board[3]))\n",
    "    print(str(board[4]) + '|' + str(board[5]) + '|' + str(board[6]))\n",
    "    print(str(board[7]) + '|' + str(board[8]) + '|' + str(board[9]))"
   ]
  },
  {
   "cell_type": "code",
   "execution_count": null,
   "metadata": {},
   "outputs": [],
   "source": [
    "work_board([2,3,1,5,6,9,8,9,1,0])"
   ]
  },
  {
   "cell_type": "code",
   "execution_count": null,
   "metadata": {},
   "outputs": [],
   "source": [
    "s = [1,2,3,4,5]"
   ]
  },
  {
   "cell_type": "code",
   "execution_count": null,
   "metadata": {},
   "outputs": [],
   "source": [
    "print(str(s[1]) + ' 1')"
   ]
  },
  {
   "cell_type": "code",
   "execution_count": null,
   "metadata": {},
   "outputs": [],
   "source": [
    "def inp_func():\n",
    "    player1 = ''\n",
    "    player2 = ''\n",
    "    while player1 !='X' and player1 !='O':\n",
    "        player1 = input('Player 1, what you want to be an X or a O ? \\n').upper()\n",
    "    if player1 == 'X':\n",
    "        player2 = 'O'\n",
    "    else:\n",
    "        player2='X'\n",
    "    print('Player 1 is {} and Player 2 is {}'.format(player1, player2))"
   ]
  },
  {
   "cell_type": "code",
   "execution_count": null,
   "metadata": {},
   "outputs": [],
   "source": [
    "inp_func()"
   ]
  },
  {
   "cell_type": "code",
   "execution_count": null,
   "metadata": {},
   "outputs": [],
   "source": [
    "p1 = 'X'\n",
    "p2 = 'O'"
   ]
  },
  {
   "cell_type": "code",
   "execution_count": null,
   "metadata": {},
   "outputs": [],
   "source": [
    "b = [0,0,0,0,0,0,0,0,0,0]"
   ]
  },
  {
   "cell_type": "code",
   "execution_count": null,
   "metadata": {},
   "outputs": [],
   "source": [
    "b[1]= p1"
   ]
  },
  {
   "cell_type": "code",
   "execution_count": null,
   "metadata": {},
   "outputs": [],
   "source": [
    "b\n"
   ]
  },
  {
   "cell_type": "code",
   "execution_count": null,
   "metadata": {},
   "outputs": [],
   "source": [
    "i=input('player 1 Press where do you want to place x')"
   ]
  },
  {
   "cell_type": "code",
   "execution_count": null,
   "metadata": {},
   "outputs": [],
   "source": [
    "b[int(i)] = 'X'"
   ]
  },
  {
   "cell_type": "code",
   "execution_count": null,
   "metadata": {},
   "outputs": [],
   "source": [
    "b"
   ]
  },
  {
   "cell_type": "code",
   "execution_count": null,
   "metadata": {},
   "outputs": [],
   "source": [
    "def test_func():\n",
    "    b1 = [0,0,0,0,0,0,0,0,0,0]\n",
    "    p1 = 'X'\n",
    "    p2 = 'O'\n",
    "    for i in range(1, len(b1)):\n",
    "        \n",
    "        q=[0]\n",
    "\n",
    "        \n",
    "        if i%2==1:\n",
    "            a=input('Where do you want to put X, p1?')\n",
    "            if a not in q:\n",
    "                q.append(int(a))\n",
    "                b[a]='X'\n",
    "            \n",
    "        if i%2 == 0:\n",
    "            a=input('Where do you want to put O, p2?')\n",
    "            if a not in q:\n",
    "                q.append(int(a))\n",
    "                b[a]='X'\n",
    "            \n",
    "\n",
    "\n",
    "\n",
    "\n",
    "\n",
    "\n",
    "\n",
    "\n",
    "\n",
    "\n",
    "\n",
    "\n",
    "\n",
    "\n",
    "\n",
    "\n",
    "\n",
    "\n",
    "\n",
    "\n",
    "\n",
    "\n",
    "\n",
    "\n",
    "\n",
    "\n",
    "\n"
   ]
  },
  {
   "cell_type": "code",
   "execution_count": null,
   "metadata": {},
   "outputs": [],
   "source": [
    "q=[0]\n",
    "a=input('Where do you want to put X, p1?')\n",
    "q.append(int(a))"
   ]
  },
  {
   "cell_type": "code",
   "execution_count": null,
   "metadata": {},
   "outputs": [],
   "source": [
    "q"
   ]
  },
  {
   "cell_type": "code",
   "execution_count": null,
   "metadata": {},
   "outputs": [],
   "source": [
    "###THis function works with updating screen\n",
    "from IPython.display import clear_output\n",
    "\n",
    "def input_func2(p1,p2):\n",
    "    b1 = [0,' ',' ',' ',' ',' ',' ',' ',' ',' ']\n",
    "\n",
    "    q=['0']\n",
    "    i=1\n",
    "    while len(q) <=9:\n",
    "        if i%2==1:\n",
    "            a=input('Where do you want to put {}, p1? \\n'.format(p1))\n",
    "            \n",
    "            if a not in q:\n",
    "                clear_output()\n",
    "                q.append(a)\n",
    "                i +=1\n",
    "                b1[int(a)]=p1\n",
    "                work_board(b1)\n",
    "                if b1[1]==b1[2]==b1[3] == p1 or b1[4]==b1[5]==b1[6] == p1 or b1[7]==b1[8]==b1[9] == p1 or b1[1]==b1[4]==b1[7] == p1 or b1[2]==b1[5]==b1[8] == p1 or b1[3]==b1[6]==b1[9] == p1 or b1[1]==b1[5]==b1[9] == p1 or b1[3]==b1[5]==b1[7] == p1:\n",
    "                    print('\\n \\n Player1 wins the game'.format(p1))\n",
    "                    break\n",
    "\n",
    "        else:\n",
    "            a=input('Where do you want to put {}, p2? \\n'.format(p2))\n",
    "            if a not in q:\n",
    "                clear_output()\n",
    "                q.append(a)\n",
    "                i+=1\n",
    "                b1[int(a)]=p2\n",
    "                work_board(b1)\n",
    "                if b1[1]==b1[2]==b1[3] == p2 or b1[4]==b1[5]==b1[6] == p2 or b1[7]==b1[8]==b1[9] == p2 or b1[1]==b1[4]==b1[7] == p2 or b1[2]==b1[5]==b1[8] == p2 or b1[3]==b1[6]==b1[9] == p2 or b1[1]==b1[5]==b1[9] == p2 or b1[3]==b1[5]==b1[7] == p2:\n",
    "                    print('\\n \\n Player2 wins the game')\n",
    "                    break\n",
    "\n",
    "    return b1"
   ]
  },
  {
   "cell_type": "code",
   "execution_count": null,
   "metadata": {},
   "outputs": [],
   "source": [
    "input_func2('X','O')"
   ]
  },
  {
   "cell_type": "markdown",
   "metadata": {},
   "source": [
    "##### test_func()"
   ]
  },
  {
   "cell_type": "code",
   "execution_count": null,
   "metadata": {},
   "outputs": [],
   "source": [
    "test_func()"
   ]
  },
  {
   "cell_type": "code",
   "execution_count": null,
   "metadata": {},
   "outputs": [],
   "source": [
    "def test_func():\n",
    "    \n",
    "    p1 = ('a','b')\n",
    "    \n",
    "    p1 = inp_func()\n",
    "    return p1[0]"
   ]
  },
  {
   "cell_type": "code",
   "execution_count": null,
   "metadata": {},
   "outputs": [],
   "source": [
    "test_func()"
   ]
  },
  {
   "cell_type": "code",
   "execution_count": null,
   "metadata": {},
   "outputs": [],
   "source": [
    "def test_func1():\n",
    "    \n",
    "    p_m = ('a','b')\n",
    "    \n",
    "    p_m = inp_func()\n",
    "    \n",
    "    input_func2(p_m[0], p_m[1])\n",
    "    \n",
    "    "
   ]
  },
  {
   "cell_type": "markdown",
   "metadata": {},
   "source": [
    "test_func1()"
   ]
  },
  {
   "cell_type": "markdown",
   "metadata": {},
   "source": [
    "def test_func2():\n",
    "    \n",
    "    p_m = ('a','b')\n",
    "    \n",
    "    p_m = inp_func()\n",
    "    \n",
    "    input_func2(p_m[0], p_m[1])\n",
    "    \n",
    "    work_board(input_func2(p_m[0], p_m[1]))\n",
    "    \n",
    "    "
   ]
  },
  {
   "cell_type": "markdown",
   "metadata": {},
   "source": []
  },
  {
   "cell_type": "code",
   "execution_count": null,
   "metadata": {},
   "outputs": [],
   "source": [
    "def test_func2():\n",
    "    \n",
    "    p_m = ('a','b')\n",
    "    \n",
    "    p_m = inp_func()\n",
    "    \n",
    "    input_func2(p_m[0], p_m[1])"
   ]
  },
  {
   "cell_type": "code",
   "execution_count": null,
   "metadata": {},
   "outputs": [],
   "source": [
    "test_func2()"
   ]
  },
  {
   "cell_type": "code",
   "execution_count": null,
   "metadata": {},
   "outputs": [],
   "source": [
    "test_func2()"
   ]
  },
  {
   "cell_type": "code",
   "execution_count": 8,
   "metadata": {},
   "outputs": [],
   "source": [
    "############################################################\n",
    "\n",
    "from IPython.display import clear_output\n",
    "\n",
    "def tic_tac_toe():\n",
    "    b1 = [0,' ',' ',' ',' ',' ',' ',' ',' ',' ']\n",
    "\n",
    "    \n",
    "    \n",
    "    \n",
    "    \n",
    "    \n",
    "################################################    \n",
    "    p1 = ''\n",
    "    p2 = ''\n",
    "    while p1 !='X' and p1 !='O':\n",
    "        p1 = input('Player 1, what you want to be an X or a O ? \\n').upper()\n",
    "    if p1 == 'X':\n",
    "        p2 = 'O'\n",
    "    else:\n",
    "        p2='X'\n",
    "    print('Player 1 is {} and Player 2 is {}'.format(p1, p2))\n",
    "    \n",
    "    q=['0']\n",
    "    i=1\n",
    "    \n",
    "##################################################################\n",
    "    while len(q) <=9:\n",
    "        if i%2==1:\n",
    "            a=input('Where do you want to put {}, p1? \\n'.format(p1))\n",
    "            \n",
    "            if a not in q and a <= 10:\n",
    "                clear_output()\n",
    "                q.append(a)\n",
    "                i +=1\n",
    "                b1[int(a)]=p1\n",
    "                work_board(b1)\n",
    "                if b1[1]==b1[2]==b1[3] == p1 or b1[4]==b1[5]==b1[6] == p1 or b1[7]==b1[8]==b1[9] == p1 or b1[1]==b1[4]==b1[7] == p1 or b1[2]==b1[5]==b1[8] == p1 or b1[3]==b1[6]==b1[9] == p1 or b1[1]==b1[5]==b1[9] == p1 or b1[3]==b1[5]==b1[7] == p1:\n",
    "                    print('\\n \\n Player1 wins the game'.format(p1))\n",
    "                    break\n",
    "            \n",
    "            \n",
    "        else:\n",
    "            a=input('Where do you want to put {}, p2? \\n'.format(p2))\n",
    "            if a not in q and a <= 10:\n",
    "                clear_output()\n",
    "                q.append(a)\n",
    "                i+=1\n",
    "                b1[int(a)]=p2\n",
    "                work_board(b1)\n",
    "                if b1[1]==b1[2]==b1[3] == p2 or b1[4]==b1[5]==b1[6] == p2 or b1[7]==b1[8]==b1[9] == p2 or b1[1]==b1[4]==b1[7] == p2 or b1[2]==b1[5]==b1[8] == p2 or b1[3]==b1[6]==b1[9] == p2 or b1[1]==b1[5]==b1[9] == p2 or b1[3]==b1[5]==b1[7] == p2:\n",
    "                    print('\\n \\n Player2 wins the game')\n",
    "                    break\n"
   ]
  },
  {
   "cell_type": "markdown",
   "metadata": {},
   "source": [
    "\n",
    "\n",
    "\n",
    "\n",
    "\n",
    "\n",
    "# tic_tac_toe()\n",
    "\n",
    "\n",
    "\n",
    "\n"
   ]
  },
  {
   "cell_type": "code",
   "execution_count": 7,
   "metadata": {},
   "outputs": [
    {
     "ename": "NameError",
     "evalue": "name 'tic_tac_toe' is not defined",
     "output_type": "error",
     "traceback": [
      "\u001b[1;31m---------------------------------------------------------------------------\u001b[0m",
      "\u001b[1;31mNameError\u001b[0m                                 Traceback (most recent call last)",
      "\u001b[1;32m<ipython-input-7-d5912735471a>\u001b[0m in \u001b[0;36m<module>\u001b[1;34m()\u001b[0m\n\u001b[1;32m----> 1\u001b[1;33m \u001b[0mtic_tac_toe\u001b[0m\u001b[1;33m(\u001b[0m\u001b[1;33m)\u001b[0m\u001b[1;33m\u001b[0m\u001b[0m\n\u001b[0m",
      "\u001b[1;31mNameError\u001b[0m: name 'tic_tac_toe' is not defined"
     ]
    }
   ],
   "source": [
    "tic_tac_toe()"
   ]
  },
  {
   "cell_type": "code",
   "execution_count": 3,
   "metadata": {},
   "outputs": [],
   "source": [
    "##Some more bugs taken care of\n",
    "\n",
    "############################################################\n",
    "\n",
    "from IPython.display import clear_output\n",
    "\n",
    "def tic_tac_toe_1():\n",
    "    b1 = [0,' ',' ',' ',' ',' ',' ',' ',' ',' ']\n",
    "\n",
    "    \n",
    "    \n",
    "    \n",
    "    \n",
    "    \n",
    "################################################    \n",
    "    p1 = ''\n",
    "    p2 = ''\n",
    "    while p1 !='X' and p1 !='O':\n",
    "        p1 = input('Player 1, what you want to be an X or a O ? \\n').upper()\n",
    "    if p1 == 'X':\n",
    "        p2 = 'O'\n",
    "    else:\n",
    "        p2='X'\n",
    "    print('Player 1 is {} and Player 2 is {}'.format(p1, p2))\n",
    "    \n",
    "    q=['0']\n",
    "    i=1\n",
    "    \n",
    "##################################################################\n",
    "    while len(q) <=9:\n",
    "        if i%2==1:\n",
    "            a=int(input('Where do you want to put {}, p1? \\n'.format(p1)))\n",
    "            \n",
    "            if a not in q and a<=9 and a>=0:\n",
    "                clear_output()\n",
    "                q.append(a)\n",
    "                i +=1\n",
    "                b1[int(a)]=p1\n",
    "                work_board(b1)\n",
    "                if b1[1]==b1[2]==b1[3] == p1 or b1[4]==b1[5]==b1[6] == p1 or b1[7]==b1[8]==b1[9] == p1 or b1[1]==b1[4]==b1[7] == p1 or b1[2]==b1[5]==b1[8] == p1 or b1[3]==b1[6]==b1[9] == p1 or b1[1]==b1[5]==b1[9] == p1 or b1[3]==b1[5]==b1[7] == p1:\n",
    "                    print('\\n \\n Player1 wins the game'.format(p1))\n",
    "                    break\n",
    "            \n",
    "            \n",
    "        else:\n",
    "            a=int(input('Where do you want to put {}, p2? \\n'.format(p2)))\n",
    "            if a not in q and a<=9 and a>=0:\n",
    "                clear_output()\n",
    "                q.append(a)\n",
    "                i+=1\n",
    "                b1[int(a)]=p2\n",
    "                work_board(b1)\n",
    "                if b1[1]==b1[2]==b1[3] == p2 or b1[4]==b1[5]==b1[6] == p2 or b1[7]==b1[8]==b1[9] == p2 or b1[1]==b1[4]==b1[7] == p2 or b1[2]==b1[5]==b1[8] == p2 or b1[3]==b1[6]==b1[9] == p2 or b1[1]==b1[5]==b1[9] == p2 or b1[3]==b1[5]==b1[7] == p2:\n",
    "                    print('\\n \\n Player2 wins the game')\n",
    "                    break"
   ]
  },
  {
   "cell_type": "code",
   "execution_count": 6,
   "metadata": {},
   "outputs": [
    {
     "name": "stdout",
     "output_type": "stream",
     "text": [
      "O|X|O\n",
      " |X| \n",
      " |X| \n",
      "\n",
      " \n",
      " Player1 wins the game\n"
     ]
    }
   ],
   "source": [
    "tic_tac_toe_1()"
   ]
  },
  {
   "cell_type": "markdown",
   "metadata": {},
   "source": []
  }
 ],
 "metadata": {
  "kernelspec": {
   "display_name": "Python 3",
   "language": "python",
   "name": "python3"
  },
  "language_info": {
   "codemirror_mode": {
    "name": "ipython",
    "version": 3
   },
   "file_extension": ".py",
   "mimetype": "text/x-python",
   "name": "python",
   "nbconvert_exporter": "python",
   "pygments_lexer": "ipython3",
   "version": "3.6.5"
  }
 },
 "nbformat": 4,
 "nbformat_minor": 2
}
