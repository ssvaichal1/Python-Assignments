{
 "cells": [
  {
   "cell_type": "code",
   "execution_count": 1,
   "metadata": {},
   "outputs": [],
   "source": [
    "##Some more bugs taken care of\n",
    "\n",
    "\n",
    "def work_board(board):\n",
    "    print(str(board[1]) + '|' + str(board[2]) + '|' + str(board[3]))\n",
    "    print(str(board[4]) + '|' + str(board[5]) + '|' + str(board[6]))\n",
    "    print(str(board[7]) + '|' + str(board[8]) + '|' + str(board[9]))\n",
    "\n",
    "\n",
    "\n",
    "\n",
    "############################################################\n",
    "\n",
    "from IPython.display import clear_output\n",
    "\n",
    "def tic_tac_toe_1():\n",
    "    b1 = [0,' ',' ',' ',' ',' ',' ',' ',' ',' ']\n",
    "\n",
    "    \n",
    "    \n",
    "    \n",
    "    \n",
    "    \n",
    "################################################    \n",
    "    p1 = ''\n",
    "    p2 = ''\n",
    "    while p1 !='X' and p1 !='O':\n",
    "        p1 = input('Player 1, what you want to be an X or a O ? \\n').upper()\n",
    "    if p1 == 'X':\n",
    "        p2 = 'O'\n",
    "    else:\n",
    "        p2='X'\n",
    "    print('Player 1 is {} and Player 2 is {}'.format(p1, p2))\n",
    "    work_board([1,'.','.','.','.','.','.','.','.','.'])\n",
    "    \n",
    "    q=['0']\n",
    "    i=1\n",
    "    \n",
    "##################################################################\n",
    "    while len(q) <=9:\n",
    "        if len(q) == 10:\n",
    "            print(\"Draw!!\")\n",
    "            \n",
    "        elif i%2==1:\n",
    "            a=int(input('Where do you want to put {}, p1? \\n'.format(p1)))\n",
    "            \n",
    "            if a not in q and a<=9 and a>=0:\n",
    "                clear_output()\n",
    "                q.append(a)\n",
    "                i +=1\n",
    "                b1[int(a)]=p1\n",
    "                work_board(b1)\n",
    "                if b1[1]==b1[2]==b1[3] == p1 or b1[4]==b1[5]==b1[6] == p1 or b1[7]==b1[8]==b1[9] == p1 or b1[1]==b1[4]==b1[7] == p1 or b1[2]==b1[5]==b1[8] == p1 or b1[3]==b1[6]==b1[9] == p1 or b1[1]==b1[5]==b1[9] == p1 or b1[3]==b1[5]==b1[7] == p1:\n",
    "                    print('\\n \\n Player1 wins the game'.format(p1))\n",
    "                    break\n",
    "            \n",
    "            \n",
    "        else:\n",
    "            a=int(input('Where do you want to put {}, p2? \\n'.format(p2)))\n",
    "            if a not in q and a<=9 and a>=0:\n",
    "                clear_output()\n",
    "                q.append(a)\n",
    "                i+=1\n",
    "                b1[int(a)]=p2\n",
    "                work_board(b1)\n",
    "                if b1[1]==b1[2]==b1[3] == p2 or b1[4]==b1[5]==b1[6] == p2 or b1[7]==b1[8]==b1[9] == p2 or b1[1]==b1[4]==b1[7] == p2 or b1[2]==b1[5]==b1[8] == p2 or b1[3]==b1[6]==b1[9] == p2 or b1[1]==b1[5]==b1[9] == p2 or b1[3]==b1[5]==b1[7] == p2:\n",
    "                    print('\\n \\n Player2 wins the game')\n",
    "                    break"
   ]
  },
  {
   "cell_type": "code",
   "execution_count": 3,
   "metadata": {},
   "outputs": [
    {
     "name": "stdout",
     "output_type": "stream",
     "text": [
      "O| | \n",
      "X|X|X\n",
      " | |O\n",
      "\n",
      " \n",
      " Player1 wins the game\n"
     ]
    }
   ],
   "source": [
    "tic_tac_toe_1()"
   ]
  },
  {
   "cell_type": "markdown",
   "metadata": {},
   "source": []
  }
 ],
 "metadata": {
  "kernelspec": {
   "display_name": "Python 3",
   "language": "python",
   "name": "python3"
  },
  "language_info": {
   "codemirror_mode": {
    "name": "ipython",
    "version": 3
   },
   "file_extension": ".py",
   "mimetype": "text/x-python",
   "name": "python",
   "nbconvert_exporter": "python",
   "pygments_lexer": "ipython3",
   "version": "3.6.5"
  }
 },
 "nbformat": 4,
 "nbformat_minor": 2
}
