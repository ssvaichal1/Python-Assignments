{
 "cells": [
  {
   "cell_type": "code",
   "execution_count": 2,
   "metadata": {},
   "outputs": [],
   "source": [
    "def add_func():\n",
    "    while True:\n",
    "        try:\n",
    "            number1 = int(input(\"Enter a number\"))\n",
    "            number2 = int(input(\"Enter another number\"))\n",
    "            result = number2 + number1\n",
    "            print(f\"\\n\",result)\n",
    "            break\n",
    "        except:\n",
    "            print(\"Input has to be a number, you dumb ass!\")\n",
    "            continue\n",
    "        finally:\n",
    "            print(\"\\n I'm done\")"
   ]
  },
  {
   "cell_type": "code",
   "execution_count": 3,
   "metadata": {},
   "outputs": [
    {
     "name": "stdout",
     "output_type": "stream",
     "text": [
      "Enter a number1\n",
      "Enter another number1\n",
      "\n",
      " 2\n",
      "\n",
      " I'm done\n"
     ]
    }
   ],
   "source": [
    "add_func()"
   ]
  },
  {
   "cell_type": "code",
   "execution_count": 4,
   "metadata": {},
   "outputs": [
    {
     "name": "stdout",
     "output_type": "stream",
     "text": [
      "Enter a number1\n",
      "Enter another number1\n",
      "\n",
      " 2\n",
      "\n",
      " I'm done\n"
     ]
    }
   ],
   "source": [
    "add_func()"
   ]
  },
  {
   "cell_type": "markdown",
   "metadata": {},
   "source": [
    "        Homework starts"
   ]
  },
  {
   "cell_type": "code",
   "execution_count": 5,
   "metadata": {},
   "outputs": [
    {
     "name": "stdout",
     "output_type": "stream",
     "text": [
      "Type error ho gaya!\n"
     ]
    }
   ],
   "source": [
    "try:    \n",
    "    for i in ['a','b','c']:\n",
    "        print(i**2)\n",
    "except TypeError: \n",
    "    print(\"Type error ho gaya!\")"
   ]
  },
  {
   "cell_type": "code",
   "execution_count": 6,
   "metadata": {},
   "outputs": [
    {
     "name": "stdout",
     "output_type": "stream",
     "text": [
      "some error\n",
      "All done!\n"
     ]
    }
   ],
   "source": [
    "try:\n",
    "    x = 5\n",
    "    y = 0\n",
    "\n",
    "    z = x/y\n",
    "except: \n",
    "    print('some error')\n",
    "\n",
    "finally: \n",
    "    print(\"All done!\")"
   ]
  },
  {
   "cell_type": "code",
   "execution_count": 30,
   "metadata": {},
   "outputs": [],
   "source": [
    "def ask():\n",
    "    while True:    \n",
    "        try:\n",
    "            a = int(input(\"enter a number \\n\"))\n",
    "            \n",
    "        except: \n",
    "            print(\"Some error, please try again!\")\n",
    "            continue\n",
    "\n",
    "        else: \n",
    "            print(f\"Great job, square of the number is \", a*a)\n",
    "            break"
   ]
  },
  {
   "cell_type": "code",
   "execution_count": 32,
   "metadata": {},
   "outputs": [
    {
     "name": "stdout",
     "output_type": "stream",
     "text": [
      "enter a number \n",
      "t\n",
      "Some error, please try again!\n",
      "enter a number \n",
      "ret\n",
      "Some error, please try again!\n",
      "enter a number \n",
      "aaa\n",
      "Some error, please try again!\n",
      "enter a number \n",
      "1\n",
      "Great job, square of the number is  1\n"
     ]
    }
   ],
   "source": [
    "ask()"
   ]
  },
  {
   "cell_type": "code",
   "execution_count": null,
   "metadata": {},
   "outputs": [],
   "source": []
  },
  {
   "cell_type": "code",
   "execution_count": null,
   "metadata": {},
   "outputs": [],
   "source": []
  },
  {
   "cell_type": "code",
   "execution_count": null,
   "metadata": {},
   "outputs": [],
   "source": []
  },
  {
   "cell_type": "code",
   "execution_count": null,
   "metadata": {},
   "outputs": [],
   "source": []
  },
  {
   "cell_type": "code",
   "execution_count": null,
   "metadata": {},
   "outputs": [],
   "source": []
  }
 ],
 "metadata": {
  "kernelspec": {
   "display_name": "Python 3",
   "language": "python",
   "name": "python3"
  },
  "language_info": {
   "codemirror_mode": {
    "name": "ipython",
    "version": 3
   },
   "file_extension": ".py",
   "mimetype": "text/x-python",
   "name": "python",
   "nbconvert_exporter": "python",
   "pygments_lexer": "ipython3",
   "version": "3.6.5"
  }
 },
 "nbformat": 4,
 "nbformat_minor": 2
}
